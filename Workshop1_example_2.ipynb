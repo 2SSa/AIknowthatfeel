{
 "cells": [
  {
   "cell_type": "markdown",
   "metadata": {},
   "source": [
    "### Collab"
   ]
  },
  {
   "cell_type": "markdown",
   "metadata": {},
   "source": [
    "#### git clone"
   ]
  },
  {
   "cell_type": "code",
   "execution_count": 1,
   "metadata": {},
   "outputs": [],
   "source": [
    "#!git clone https://github.com/<your name>/<your project>.git\n",
    "#pip install -r requirements.txt"
   ]
  },
  {
   "cell_type": "markdown",
   "metadata": {},
   "source": [
    "### Importamos las librerias y el dataset"
   ]
  },
  {
   "cell_type": "code",
   "execution_count": 2,
   "metadata": {},
   "outputs": [],
   "source": [
    "import numpy as np\n",
    "import os\n",
    "import shutil\n",
    "import datetime"
   ]
  },
  {
   "cell_type": "code",
   "execution_count": 3,
   "metadata": {},
   "outputs": [
    {
     "name": "stderr",
     "output_type": "stream",
     "text": [
      "Using TensorFlow backend.\n"
     ]
    }
   ],
   "source": [
    "from keras.models import Sequential\n",
    "from keras.preprocessing import sequence\n",
    "from keras.layers import Embedding, LSTM, Dense\n",
    "from keras.callbacks import TensorBoard\n",
    "from keras.preprocessing.text import one_hot\n",
    "import pandas as pd"
   ]
  },
  {
   "cell_type": "code",
   "execution_count": 4,
   "metadata": {},
   "outputs": [],
   "source": [
    "from libs.workshop_libs.tensorboard import TrainValTensorBoard"
   ]
  },
  {
   "cell_type": "markdown",
   "metadata": {},
   "source": [
    "### Importar el dataset"
   ]
  },
  {
   "cell_type": "code",
   "execution_count": 5,
   "metadata": {},
   "outputs": [],
   "source": [
    "#Ugly Example preprocessing\n",
    "def encodeData(data,vocab_size = 5000):\n",
    "    data_out=[]\n",
    "    for index, row in data.iterrows():\n",
    "        text=(row.iloc[0]+' ### '+row.iloc[1]+' ### '+row.iloc[2])\n",
    "        data_out.append(one_hot(text, vocab_size))\n",
    "    return np.array(data_out)\n",
    "def encodedLabels(data):\n",
    "    data_out=[]\n",
    "    for index, row in data.iterrows():\n",
    "        if row.iloc[0] == 'others':\n",
    "            data_out.append([1,0,0,0])\n",
    "        elif row.iloc[0] == 'happy':\n",
    "            data_out.append([0,1,0,0])\n",
    "        elif row.iloc[0] == 'angry':\n",
    "            data_out.append([0,0,1,0])\n",
    "        elif row.iloc[0] == 'sad':\n",
    "            data_out.append([0,0,0,1])\n",
    "        else:\n",
    "            raise Exception()\n",
    "    return np.array(data_out).astype(int)\n",
    "def prepare_data(x_data,max_conv_length):\n",
    "    x_data = sequence.pad_sequences(x_data, maxlen=max_conv_length)\n",
    "    return x_data\n",
    "def loadAndPrepareData(fname,vocab_size,max_conv_length=50):\n",
    "    data = pd.read_csv(fname,sep='\t',header=None)\n",
    "    x_data_raw=data.filter([1,2,3], axis=1).copy(deep=True)\n",
    "    y_data_raw=data.filter([4], axis=1).copy(deep=True)  \n",
    "    x_data = encodeData(x_data_raw,vocab_size)\n",
    "    y_data = encodedLabels(y_data_raw)\n",
    "    x_data = prepare_data(x_data,max_conv_length)                       \n",
    "    return x_data,y_data"
   ]
  },
  {
   "cell_type": "code",
   "execution_count": 6,
   "metadata": {},
   "outputs": [],
   "source": [
    "vocab_size=5000\n",
    "max_conv_length=50"
   ]
  },
  {
   "cell_type": "code",
   "execution_count": 7,
   "metadata": {},
   "outputs": [],
   "source": [
    "x_train,y_train=loadAndPrepareData('data_train/train.txt',vocab_size,max_conv_length)\n",
    "x_dev,y_dev=loadAndPrepareData('data_dev/dev.txt',vocab_size,max_conv_length)"
   ]
  },
  {
   "cell_type": "code",
   "execution_count": 8,
   "metadata": {},
   "outputs": [
    {
     "data": {
      "text/plain": [
       "50"
      ]
     },
     "execution_count": 8,
     "metadata": {},
     "output_type": "execute_result"
    }
   ],
   "source": [
    "len(x_train[0])"
   ]
  },
  {
   "cell_type": "code",
   "execution_count": 9,
   "metadata": {},
   "outputs": [
    {
     "data": {
      "text/plain": [
       "array([0, 0, 0, 0, 0, 0, 0, 0, 0, 0], dtype=int32)"
      ]
     },
     "execution_count": 9,
     "metadata": {},
     "output_type": "execute_result"
    }
   ],
   "source": [
    "x_train[0][:10]"
   ]
  },
  {
   "cell_type": "code",
   "execution_count": 10,
   "metadata": {},
   "outputs": [
    {
     "data": {
      "text/plain": [
       "30160"
      ]
     },
     "execution_count": 10,
     "metadata": {},
     "output_type": "execute_result"
    }
   ],
   "source": [
    "len(x_train)"
   ]
  },
  {
   "cell_type": "code",
   "execution_count": 11,
   "metadata": {},
   "outputs": [],
   "source": [
    "#QUITAR\n",
    "max_data=10000\n",
    "x_train=x_train[0:max_data]\n",
    "y_train=y_train[0:max_data]\n",
    "x_dev=x_dev[0:max_data]\n",
    "y_dev=y_dev[0:max_data]"
   ]
  },
  {
   "cell_type": "markdown",
   "metadata": {},
   "source": [
    "### Revisemos el dataset"
   ]
  },
  {
   "cell_type": "code",
   "execution_count": 12,
   "metadata": {},
   "outputs": [],
   "source": [
    "## Cargamos tensorboard"
   ]
  },
  {
   "cell_type": "code",
   "execution_count": 13,
   "metadata": {},
   "outputs": [],
   "source": [
    "%load_ext tensorboard\n",
    "#%reload_ext tensorboard"
   ]
  },
  {
   "cell_type": "code",
   "execution_count": 14,
   "metadata": {},
   "outputs": [],
   "source": [
    "#!kill 4430"
   ]
  },
  {
   "cell_type": "code",
   "execution_count": 15,
   "metadata": {},
   "outputs": [],
   "source": [
    "#!ps aux | grep -i tb"
   ]
  },
  {
   "cell_type": "code",
   "execution_count": 16,
   "metadata": {},
   "outputs": [
    {
     "name": "stdout",
     "output_type": "stream",
     "text": [
      "None\n"
     ]
    }
   ],
   "source": [
    "logs_base_dir = \"./logs\"\n",
    "print(shutil.rmtree(logs_base_dir))"
   ]
  },
  {
   "cell_type": "code",
   "execution_count": 17,
   "metadata": {
    "scrolled": false
   },
   "outputs": [
    {
     "data": {
      "text/plain": [
       "Reusing TensorBoard on port 6006 (pid 6823), started 1:37:35 ago. (Use '!kill 6823' to kill it.)"
      ]
     },
     "metadata": {},
     "output_type": "display_data"
    },
    {
     "data": {
      "text/html": [
       "\n",
       "        <iframe\n",
       "            width=\"100%\"\n",
       "            height=\"800\"\n",
       "            src=\"http://localhost:6006\"\n",
       "            frameborder=\"0\"\n",
       "            allowfullscreen\n",
       "        ></iframe>\n",
       "        "
      ],
      "text/plain": [
       "<IPython.lib.display.IFrame at 0x7f9bc3098cc0>"
      ]
     },
     "metadata": {},
     "output_type": "execute_result"
    }
   ],
   "source": [
    "os.makedirs(logs_base_dir, exist_ok=True)\n",
    "%tensorboard --logdir {logs_base_dir}"
   ]
  },
  {
   "cell_type": "code",
   "execution_count": 18,
   "metadata": {},
   "outputs": [],
   "source": [
    "### Uniformizemos los datos, truncados y padding"
   ]
  },
  {
   "cell_type": "code",
   "execution_count": null,
   "metadata": {},
   "outputs": [],
   "source": []
  },
  {
   "cell_type": "code",
   "execution_count": 19,
   "metadata": {},
   "outputs": [],
   "source": [
    "def create_model(top_words,max_review_length):\n",
    "    embedding_vector_length = 32\n",
    "    model = Sequential()\n",
    "    model.add(Embedding(top_words, embedding_vector_length, input_length=max_review_length))\n",
    "    model.add(LSTM(100))\n",
    "    model.add(Dense(4, activation='sigmoid'))\n",
    "    print(model.summary())\n",
    "    return model"
   ]
  },
  {
   "cell_type": "code",
   "execution_count": 20,
   "metadata": {},
   "outputs": [],
   "source": [
    "def train_model(model,x_train,y_train,x_dev,y_dev):\n",
    "        logdir = os.path.join(logs_base_dir, datetime.datetime.now().strftime(\"%Y%m%d-%H%M%S\"))\n",
    "        model.compile(loss='categorical_crossentropy',\n",
    "                      optimizer='adam',\n",
    "                      metrics=['accuracy']\n",
    "                     )\n",
    "        model.fit(x_train,\n",
    "                  y_train,\n",
    "                  batch_size=64, #64,\n",
    "                  validation_data=(x_dev, y_dev),\n",
    "                  nb_epoch=10,\n",
    "                  callbacks=[TrainValTensorBoard(logdir, \n",
    "                                                 histogram_freq=1,\n",
    "                                                 write_graph=True\n",
    "                                                )]\n",
    "                 )"
   ]
  },
  {
   "cell_type": "code",
   "execution_count": null,
   "metadata": {},
   "outputs": [],
   "source": []
  },
  {
   "cell_type": "code",
   "execution_count": 21,
   "metadata": {},
   "outputs": [
    {
     "name": "stdout",
     "output_type": "stream",
     "text": [
      "(10000, 50)\n",
      "(2755, 50)\n"
     ]
    }
   ],
   "source": [
    "print(x_train.shape)\n",
    "print(x_dev.shape)"
   ]
  },
  {
   "cell_type": "code",
   "execution_count": 22,
   "metadata": {},
   "outputs": [
    {
     "name": "stderr",
     "output_type": "stream",
     "text": [
      "WARNING: Logging before flag parsing goes to stderr.\n",
      "W0720 18:44:30.807185 140308776519488 deprecation_wrapper.py:119] From /home/leo/ETH/DS3/gtWorkshop/sandbox/lib/python3.6/site-packages/keras/backend/tensorflow_backend.py:74: The name tf.get_default_graph is deprecated. Please use tf.compat.v1.get_default_graph instead.\n",
      "\n",
      "W0720 18:44:30.818528 140308776519488 deprecation_wrapper.py:119] From /home/leo/ETH/DS3/gtWorkshop/sandbox/lib/python3.6/site-packages/keras/backend/tensorflow_backend.py:517: The name tf.placeholder is deprecated. Please use tf.compat.v1.placeholder instead.\n",
      "\n",
      "W0720 18:44:30.820264 140308776519488 deprecation_wrapper.py:119] From /home/leo/ETH/DS3/gtWorkshop/sandbox/lib/python3.6/site-packages/keras/backend/tensorflow_backend.py:4138: The name tf.random_uniform is deprecated. Please use tf.random.uniform instead.\n",
      "\n"
     ]
    },
    {
     "name": "stdout",
     "output_type": "stream",
     "text": [
      "_________________________________________________________________\n",
      "Layer (type)                 Output Shape              Param #   \n",
      "=================================================================\n",
      "embedding_1 (Embedding)      (None, 50, 32)            160000    \n",
      "_________________________________________________________________\n",
      "lstm_1 (LSTM)                (None, 100)               53200     \n",
      "_________________________________________________________________\n",
      "dense_1 (Dense)              (None, 4)                 404       \n",
      "=================================================================\n",
      "Total params: 213,604\n",
      "Trainable params: 213,604\n",
      "Non-trainable params: 0\n",
      "_________________________________________________________________\n",
      "None\n"
     ]
    }
   ],
   "source": [
    "model=create_model(vocab_size,max_conv_length)"
   ]
  },
  {
   "cell_type": "code",
   "execution_count": 23,
   "metadata": {},
   "outputs": [
    {
     "name": "stderr",
     "output_type": "stream",
     "text": [
      "W0720 18:44:31.044564 140308776519488 deprecation_wrapper.py:119] From /home/leo/ETH/DS3/gtWorkshop/sandbox/lib/python3.6/site-packages/keras/optimizers.py:790: The name tf.train.Optimizer is deprecated. Please use tf.compat.v1.train.Optimizer instead.\n",
      "\n",
      "W0720 18:44:31.060983 140308776519488 deprecation_wrapper.py:119] From /home/leo/ETH/DS3/gtWorkshop/sandbox/lib/python3.6/site-packages/keras/backend/tensorflow_backend.py:3295: The name tf.log is deprecated. Please use tf.math.log instead.\n",
      "\n",
      "/home/leo/ETH/DS3/gtWorkshop/sandbox/lib/python3.6/site-packages/ipykernel_launcher.py:14: UserWarning: The `nb_epoch` argument in `fit` has been renamed `epochs`.\n",
      "  \n",
      "W0720 18:44:31.491600 140308776519488 deprecation.py:323] From /home/leo/ETH/DS3/gtWorkshop/sandbox/lib/python3.6/site-packages/tensorflow/python/ops/math_grad.py:1250: add_dispatch_support.<locals>.wrapper (from tensorflow.python.ops.array_ops) is deprecated and will be removed in a future version.\n",
      "Instructions for updating:\n",
      "Use tf.where in 2.0, which has the same broadcast rule as np.where\n",
      "W0720 18:44:32.027511 140308776519488 deprecation_wrapper.py:119] From /home/leo/ETH/DS3/gtWorkshop/sandbox/lib/python3.6/site-packages/keras/backend/tensorflow_backend.py:986: The name tf.assign_add is deprecated. Please use tf.compat.v1.assign_add instead.\n",
      "\n",
      "W0720 18:44:32.235974 140308776519488 deprecation_wrapper.py:119] From /home/leo/ETH/DS3/gtWorkshop/libs/workshop_libs/tensorboard.py:16: The name tf.summary.FileWriter is deprecated. Please use tf.compat.v1.summary.FileWriter instead.\n",
      "\n",
      "W0720 18:44:32.401747 140308776519488 deprecation_wrapper.py:119] From /home/leo/ETH/DS3/gtWorkshop/sandbox/lib/python3.6/site-packages/keras/callbacks.py:796: The name tf.summary.histogram is deprecated. Please use tf.compat.v1.summary.histogram instead.\n",
      "\n",
      "W0720 18:44:32.410559 140308776519488 deprecation_wrapper.py:119] From /home/leo/ETH/DS3/gtWorkshop/sandbox/lib/python3.6/site-packages/keras/callbacks.py:850: The name tf.summary.merge_all is deprecated. Please use tf.compat.v1.summary.merge_all instead.\n",
      "\n"
     ]
    },
    {
     "name": "stdout",
     "output_type": "stream",
     "text": [
      "Train on 10000 samples, validate on 2755 samples\n",
      "Epoch 1/10\n",
      "10000/10000 [==============================] - 6s 552us/step - loss: 1.1285 - acc: 0.5395 - val_loss: 0.5160 - val_acc: 0.8682\n",
      "Epoch 2/10\n",
      "10000/10000 [==============================] - 5s 500us/step - loss: 0.5771 - acc: 0.7897 - val_loss: 0.3835 - val_acc: 0.8726\n",
      "Epoch 3/10\n",
      "10000/10000 [==============================] - 5s 524us/step - loss: 0.4053 - acc: 0.8557 - val_loss: 0.4150 - val_acc: 0.8523\n",
      "Epoch 4/10\n",
      "10000/10000 [==============================] - 5s 530us/step - loss: 0.3331 - acc: 0.8834 - val_loss: 0.4528 - val_acc: 0.8345\n",
      "Epoch 5/10\n",
      "10000/10000 [==============================] - 6s 567us/step - loss: 0.2908 - acc: 0.9002 - val_loss: 0.4414 - val_acc: 0.8428\n",
      "Epoch 6/10\n",
      "10000/10000 [==============================] - 6s 563us/step - loss: 0.2524 - acc: 0.9129 - val_loss: 0.5059 - val_acc: 0.8189\n",
      "Epoch 7/10\n",
      "10000/10000 [==============================] - 7s 668us/step - loss: 0.2254 - acc: 0.9244 - val_loss: 0.4581 - val_acc: 0.8526\n",
      "Epoch 8/10\n",
      "10000/10000 [==============================] - 6s 577us/step - loss: 0.2141 - acc: 0.9277 - val_loss: 0.4949 - val_acc: 0.8269\n",
      "Epoch 9/10\n",
      "10000/10000 [==============================] - 6s 568us/step - loss: 0.1988 - acc: 0.9341 - val_loss: 0.6239 - val_acc: 0.7982\n",
      "Epoch 10/10\n",
      "10000/10000 [==============================] - 5s 514us/step - loss: 0.1800 - acc: 0.9415 - val_loss: 0.5458 - val_acc: 0.8225\n"
     ]
    }
   ],
   "source": [
    "train_model(model,x_train,y_train,x_dev,y_dev)"
   ]
  },
  {
   "cell_type": "markdown",
   "metadata": {},
   "source": [
    "### Evaluamos el modelo"
   ]
  },
  {
   "cell_type": "code",
   "execution_count": 25,
   "metadata": {},
   "outputs": [
    {
     "name": "stdout",
     "output_type": "stream",
     "text": [
      "2755/2755 [==============================] - 0s 166us/step\n",
      "Accuracy: 82.25%\n"
     ]
    }
   ],
   "source": [
    "scores = model.evaluate(x_dev, y_dev, verbose=1)\n",
    "print(\"Accuracy: %.2f%%\" % (scores[1]*100))"
   ]
  },
  {
   "cell_type": "markdown",
   "metadata": {},
   "source": [
    "### Guardamos el modelo"
   ]
  },
  {
   "cell_type": "code",
   "execution_count": 26,
   "metadata": {},
   "outputs": [],
   "source": [
    "outpath='models/'\n",
    "os.makedirs(outpath, exist_ok=True)"
   ]
  },
  {
   "cell_type": "code",
   "execution_count": 27,
   "metadata": {},
   "outputs": [],
   "source": [
    "model.save(outpath+\"model.h5\")"
   ]
  },
  {
   "cell_type": "code",
   "execution_count": 28,
   "metadata": {},
   "outputs": [],
   "source": [
    "# serialize model to JSON\n",
    "model_json = model.to_json()\n",
    "with open(outpath+\"model.json\", \"w\") as json_file:\n",
    "    json_file.write(model_json)"
   ]
  },
  {
   "cell_type": "code",
   "execution_count": 29,
   "metadata": {},
   "outputs": [],
   "source": [
    "from keras.models import load_model"
   ]
  },
  {
   "cell_type": "code",
   "execution_count": 30,
   "metadata": {},
   "outputs": [],
   "source": [
    "model2=load_model(\"models/model.h5\")"
   ]
  },
  {
   "cell_type": "code",
   "execution_count": 33,
   "metadata": {},
   "outputs": [
    {
     "name": "stdout",
     "output_type": "stream",
     "text": [
      "2755/2755 [==============================] - 1s 209us/step\n",
      "Accuracy: 82.25%\n"
     ]
    }
   ],
   "source": [
    "scores = model2.evaluate(x_dev, y_dev, verbose=1)\n",
    "print(\"Accuracy: %.2f%%\" % (scores[1]*100))"
   ]
  },
  {
   "cell_type": "code",
   "execution_count": 35,
   "metadata": {},
   "outputs": [
    {
     "name": "stdout",
     "output_type": "stream",
     "text": [
      "['loss', 'acc']\n"
     ]
    }
   ],
   "source": [
    "print(model.metrics_names)"
   ]
  },
  {
   "cell_type": "markdown",
   "metadata": {},
   "source": [
    "### ADDENDUM: One hot encoder"
   ]
  },
  {
   "cell_type": "code",
   "execution_count": null,
   "metadata": {},
   "outputs": [],
   "source": [
    "from keras.preprocessing.text import one_hot"
   ]
  },
  {
   "cell_type": "code",
   "execution_count": null,
   "metadata": {},
   "outputs": [],
   "source": [
    "texto=[\"Esta es una frase\",\"Otra frase mas larga\", \"todo esto viene de nuestro dataset de interes\"]"
   ]
  },
  {
   "cell_type": "code",
   "execution_count": null,
   "metadata": {},
   "outputs": [],
   "source": [
    "vocab_size = 50\n",
    "palabras_vectorizadas = [one_hot(d, vocab_size) for d in texto]\n",
    "print(palabras_vectorizadas)"
   ]
  },
  {
   "cell_type": "markdown",
   "metadata": {},
   "source": [
    "### Problemas con numpy nuevos y keras"
   ]
  },
  {
   "cell_type": "code",
   "execution_count": null,
   "metadata": {},
   "outputs": [],
   "source": [
    "# save np.load\n",
    "np_load_old = np.load\n",
    "\n",
    "# modify the default parameters of np.load\n",
    "np.load = lambda *a,**k: np_load_old(*a, allow_pickle=True, **k)\n",
    "\n",
    "# call load_data with allow_pickle implicitly set to true\n",
    "#(train_data, train_labels), (test_data, test_labels) = imdb.load_data(num_words=10000)"
   ]
  },
  {
   "cell_type": "code",
   "execution_count": null,
   "metadata": {},
   "outputs": [],
   "source": [
    "# restore np.load for future normal usage\n",
    "np.load = np_load_old"
   ]
  },
  {
   "cell_type": "code",
   "execution_count": null,
   "metadata": {},
   "outputs": [],
   "source": [
    "### Otra solucion"
   ]
  },
  {
   "cell_type": "code",
   "execution_count": null,
   "metadata": {},
   "outputs": [],
   "source": [
    "#!pip uninstall numpy"
   ]
  },
  {
   "cell_type": "code",
   "execution_count": null,
   "metadata": {},
   "outputs": [],
   "source": [
    "#!pip install numpy==1.16.1"
   ]
  }
 ],
 "metadata": {
  "kernelspec": {
   "display_name": "Python 3",
   "language": "python",
   "name": "python3"
  },
  "language_info": {
   "codemirror_mode": {
    "name": "ipython",
    "version": 3
   },
   "file_extension": ".py",
   "mimetype": "text/x-python",
   "name": "python",
   "nbconvert_exporter": "python",
   "pygments_lexer": "ipython3",
   "version": "3.6.7"
  }
 },
 "nbformat": 4,
 "nbformat_minor": 2
}
